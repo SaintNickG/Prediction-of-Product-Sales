{
  "nbformat": 4,
  "nbformat_minor": 0,
  "metadata": {
    "colab": {
      "provenance": [],
      "authorship_tag": "ABX9TyNcVvGg7H0ZjqfXGWEr5ztR",
      "include_colab_link": true
    },
    "kernelspec": {
      "name": "python3",
      "display_name": "Python 3"
    },
    "language_info": {
      "name": "python"
    }
  },
  "cells": [
    {
      "cell_type": "markdown",
      "metadata": {
        "id": "view-in-github",
        "colab_type": "text"
      },
      "source": [
        "<a href=\"https://colab.research.google.com/github/SaintNickG/Prediction-of-Product-Sales/blob/main/Copy_of_Prediction_of_Product_Sales.ipynb\" target=\"_parent\"><img src=\"https://colab.research.google.com/assets/colab-badge.svg\" alt=\"Open In Colab\"/></a>"
      ]
    },
    {
      "cell_type": "markdown",
      "source": [
        "# Prediction of Product Sales\n",
        "\n",
        "* Author- Nicholas Giuffrida\n",
        "\n",
        "\n"
      ],
      "metadata": {
        "id": "TrUgAA7OcZoZ"
      }
    },
    {
      "cell_type": "markdown",
      "source": [
        "## Project Overview"
      ],
      "metadata": {
        "id": "YfuL9LXjeZTL"
      }
    },
    {
      "cell_type": "markdown",
      "source": [],
      "metadata": {
        "id": "CyeGlLXKeKPL"
      }
    },
    {
      "cell_type": "markdown",
      "source": [
        "## Load and Inspect Data"
      ],
      "metadata": {
        "id": "chleS8mhfUdb"
      }
    },
    {
      "cell_type": "code",
      "source": [],
      "metadata": {
        "id": "nkZSTEFwfceL"
      },
      "execution_count": null,
      "outputs": []
    },
    {
      "cell_type": "markdown",
      "source": [],
      "metadata": {
        "id": "KvqPJeh1fgFS"
      }
    },
    {
      "cell_type": "markdown",
      "source": [
        "## Clean Data"
      ],
      "metadata": {
        "id": "XxidjYzxfgK8"
      }
    },
    {
      "cell_type": "code",
      "source": [],
      "metadata": {
        "id": "9nnMNIc0fk_2"
      },
      "execution_count": null,
      "outputs": []
    },
    {
      "cell_type": "markdown",
      "source": [
        "## Exploratory Data Analysis"
      ],
      "metadata": {
        "id": "XKONPBWffnXY"
      }
    },
    {
      "cell_type": "code",
      "source": [],
      "metadata": {
        "id": "w_ijte5rfv-V"
      },
      "execution_count": null,
      "outputs": []
    },
    {
      "cell_type": "markdown",
      "source": [
        "## Feature Inspection"
      ],
      "metadata": {
        "id": "EjcPk6v0f1IO"
      }
    },
    {
      "cell_type": "code",
      "source": [],
      "metadata": {
        "id": "2MY9iOwMf794"
      },
      "execution_count": null,
      "outputs": []
    }
  ]
}